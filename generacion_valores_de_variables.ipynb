{
 "cells": [
  {
   "cell_type": "code",
   "execution_count": 14,
   "metadata": {},
   "outputs": [],
   "source": [
    "#Librerías necesarias\n",
    "from random import random\n",
    "import matplotlib.pyplot as plt\n",
    "import statistics\n",
    "import math\n",
    "\n",
    "#Cambio tamaño de imagenes\n",
    "plt.rcParams['figure.figsize'] = (16, 9)\n",
    "plt.style.use('ggplot')"
   ]
  },
  {
   "cell_type": "code",
   "execution_count": 16,
   "metadata": {},
   "outputs": [],
   "source": [
    "#Definimos función uniforme\n",
    "#Tomamos un A cualquiera\n",
    "A=1\n",
    "#Tomamos un B cualquiera\n",
    "B=10\n",
    "\n",
    "def uniforme(a,b):\n",
    "    r = random() #función random toma cualquier valor entre 0 y 1\n",
    "    x = a + (b-a)*r #transformada inversa para la función de distribución acumulada\n",
    "    return x"
   ]
  },
  {
   "cell_type": "code",
   "execution_count": 17,
   "metadata": {},
   "outputs": [],
   "source": [
    "#Generamos n resultados con distribución uniforme\n",
    "n = 1000\n",
    "resultados_uniforme = []\n",
    "for i in range(n):\n",
    "    resultados_uniforme.append(uniforme(A,B))"
   ]
  },
  {
   "cell_type": "code",
   "execution_count": 18,
   "metadata": {},
   "outputs": [
    {
     "name": "stdout",
     "output_type": "stream",
     "text": [
      "Esperanza:  5.479497245401613 - Esperanza teorica:  5.5\n",
      "Varianza:  6.915612453334058 - Varianza teorica:  6.75\n"
     ]
    }
   ],
   "source": [
    "#Calculamos esperanza y varianza de la muestra y las comparamos con los valores teóricos\n",
    "\n",
    "#Esperanza\n",
    "esperanza = statistics.mean(resultados_uniforme)\n",
    "\n",
    "#Varianza\n",
    "varianza = statistics.pvariance(resultados_uniforme)\n",
    "\n",
    "print(\"Esperanza: \", esperanza, \"- Esperanza teorica: \", (A+B)/2)\n",
    "print(\"Varianza: \",varianza, \"- Varianza teorica: \", (B-A)**2/12)"
   ]
  },
  {
   "cell_type": "code",
   "execution_count": 19,
   "metadata": {},
   "outputs": [
    {
     "data": {
      "image/png": "[encoded data removed]",
      "text/plain": [
       "<Figure size 1152x648 with 1 Axes>"
      ]
     },
     "metadata": {},
     "output_type": "display_data"
    },
    {
     "data": {
      "text/plain": [
       "<Figure size 1152x648 with 0 Axes>"
      ]
     },
     "metadata": {},
     "output_type": "display_data"
    }
   ],
   "source": [
    "#Histograma distribución uniforme con valores generados\n",
    "plt.hist(resultados_uniforme,alpha=1, edgecolor = 'black',  linewidth=1)\n",
    "plt.grid(True)\n",
    "plt.title('HISTOGRAMA VALORES GENERADOS')  # Colocamos el titulo\n",
    "plt.xlabel('intervalos de clases') # Nombre x\n",
    "plt.ylabel('frecuencia absoluta') # Nombre y\n",
    "plt.show()\n",
    "plt.clf()"
   ]
  },
  {
   "cell_type": "code",
   "execution_count": 20,
   "metadata": {},
   "outputs": [],
   "source": [
    "#Definimos función exponencial\n",
    "\n",
    "def exponencial(ex):\n",
    "    r = random() #función random toma cualquier valor entre 0 y 1\n",
    "    #math.log(r[, base]) por defecto la base es 'e'\n",
    "    x = -ex*math.log(r) #transformada inversa para la función de distribución acumulada\n",
    "    return x"
   ]
  },
  {
   "cell_type": "code",
   "execution_count": 21,
   "metadata": {},
   "outputs": [],
   "source": [
    "#Tomamos un valor de esperanza\n",
    "EX = 3\n",
    "\n",
    "#Generamos n resultados con distribución exponencial\n",
    "n = 1000\n",
    "resultados_exponencial = []\n",
    "for i in range(n):\n",
    "    resultados_exponencial.append(exponencial(EX))"
   ]
  },
  {
   "cell_type": "code",
   "execution_count": 24,
   "metadata": {},
   "outputs": [
    {
     "name": "stdout",
     "output_type": "stream",
     "text": [
      "Esperanza:  3.0295106575452655 - Esperanza teorica:  3\n",
      "Varianza:  9.619714115331446 - Varianza teorica:  9\n"
     ]
    }
   ],
   "source": [
    "#Calculamos esperanza y varianza de la muestra y las comparamos con los valores teóricos\n",
    "\n",
    "#Esperanza\n",
    "esperanza = statistics.mean(resultados_exponencial)\n",
    "\n",
    "#Varianza\n",
    "varianza = statistics.pvariance(resultados_exponencial)\n",
    "\n",
    "print(\"Esperanza: \", esperanza, \"- Esperanza teorica: \", EX)\n",
    "print(\"Varianza: \",varianza, \"- Varianza teorica: \", EX**2)"
   ]
  },
  {
   "cell_type": "code",
   "execution_count": null,
   "metadata": {},
   "outputs": [],
   "source": [
    "#Histograma distribución uniforme con valores generados\n",
    "plt.hist(resultados_exponencial,alpha=1, edgecolor = 'black',  linewidth=1)\n",
    "plt.grid(True)\n",
    "plt.title('HISTOGRAMA VALORES GENERADOS')  # Colocamos el titulo\n",
    "plt.xlabel('intervalos de clases') # Nombre x\n",
    "plt.ylabel('frecuencia absoluta') # Nombre y\n",
    "plt.show()\n",
    "plt.clf()"
   ]
  }
 ],
 "metadata": {
  "kernelspec": {
   "display_name": "Python 3",
   "language": "python",
   "name": "python3"
  },
  "language_info": {
   "codemirror_mode": {
    "name": "ipython",
    "version": 3
   },
   "file_extension": ".py",
   "mimetype": "text/x-python",
   "name": "python",
   "nbconvert_exporter": "python",
   "pygments_lexer": "ipython3",
   "version": "3.6.7"
  }
 },
 "nbformat": 4,
 "nbformat_minor": 2
}
